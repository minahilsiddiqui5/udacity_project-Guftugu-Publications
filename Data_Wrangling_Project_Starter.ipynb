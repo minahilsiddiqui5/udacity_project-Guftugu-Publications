{
 "cells": [
  {
   "cell_type": "markdown",
   "metadata": {
    "id": "GNIwe5N7s0e_"
   },
   "source": [
    "# Real-world Data Wrangling"
   ]
  },
  {
   "cell_type": "markdown",
   "metadata": {
    "id": "lDYDkH-Zs7Nn"
   },
   "source": [
    "# Gather data\n",
    "in this section, you will extract data using two different gathering methods and combine the data different types of data gathering methods.\n",
    "\n",
    "**1.1** in 2-4 sentences, explain the kind of problem you want to look at and the datasets you will be wrangling for this project.\n",
    "\n",
    "**In this dataset, I aim to answer two key questions:\n",
    "\n",
    "**Question 1: What is the distribution of book counts among different categories?\n",
    "\n",
    "**Question 2: What is the distribution of order statuses as a percentage of the total number of orders?\n",
    "\n",
    "As part of this project, I will perform data cleaning and assessment on two datasets. However, during the data wrangling process, I encountered an issue with a 404 error page. Fortunately, this page does not have a significant impact on my analysis, so I have chosen to skip it and focus on the primary dataset for analysis.\n",
    "\n",
    "**1.2** Gather at least two datasets using two different data gathering methods:\n",
    " 1. Programmatically downloading files\n",
    " 2. Gather data by accesing APIs\n",
    " 3. Gather and extrct data from HTML using BeautifulSoup\n",
    " 4. Extract from DataBase\n"
   ]
  },
  {
   "cell_type": "code",
   "execution_count": 1,
   "metadata": {},
   "outputs": [],
   "source": [
    "#import libraries\n",
    "\n",
    "import pandas as pd\n",
    "import numpy as np\n",
    "import matplotlib.pyplot as plt\n",
    "import seaborn as sns\n",
    "import requests\n",
    "from bs4 import BeautifulSoup\n"
   ]
  },
  {
   "cell_type": "markdown",
   "metadata": {
    "id": "gi6swhjSYqu2"
   },
   "source": [
    "## Data set 1\n",
    "### Dataset Description - Guftugu Publication\n",
    "**Type**: csv\n",
    "\n",
    "**Format : **\n",
    "\n",
    "i used  Guftugu Publication dataset, sourced from Kaggle.\n",
    "\n",
    "**Dataset Details:\n",
    "\n",
    "* Name: Guftugu Publication\n",
    "* Source: Kaggle\n",
    "* File Size: 95,935 records\n",
    "\n",
    "**Dataset Variables:\n",
    "1. Order Number: Unique identifier for each order.\n",
    "2. Order Status: Current status of the order.\n",
    "3. Book Name: Name of the purchased book.\n",
    "4. Order Date: Date the order was placed.\n",
    "5. City (Billing): Billing city for the order\n",
    " \n",
    "The city variable is unnecessary for the analysis, and will be identified and remo ved during cleaning\n",
    "\n",
    "\n"
   ]
  },
  {
   "cell_type": "code",
   "execution_count": 2,
   "metadata": {},
   "outputs": [],
   "source": [
    "try:\n",
    "    gp = pd.read_csv('GP Orders - 2.csv', encoding='utf-8')\n",
    "    # Proceed with data processing using df2\n",
    "except UnicodeDecodeError as e:\n",
    "    # If you encounter a UnicodeDecodeError, it means there's an issue with the file's encoding\n",
    "    # You can try specifying a different encoding based on the file's actual encoding\n",
    "    # For example, 'iso-8859-1' or 'windows-1252' are common alternatives\n",
    "    gp = pd.read_csv('GP Orders - 2.csv', encoding='iso-8859-1')\n",
    "    # Proceed with data processing using df2\n",
    "    # If the file still cannot be read, it may be corrupted or have other issues\n",
    "    # Check the file's integrity and encoding"
   ]
  },
  {
   "cell_type": "code",
   "execution_count": 3,
   "metadata": {},
   "outputs": [
    {
     "data": {
      "text/html": [
       "<div>\n",
       "<style scoped>\n",
       "    .dataframe tbody tr th:only-of-type {\n",
       "        vertical-align: middle;\n",
       "    }\n",
       "\n",
       "    .dataframe tbody tr th {\n",
       "        vertical-align: top;\n",
       "    }\n",
       "\n",
       "    .dataframe thead th {\n",
       "        text-align: right;\n",
       "    }\n",
       "</style>\n",
       "<table border=\"1\" class=\"dataframe\">\n",
       "  <thead>\n",
       "    <tr style=\"text-align: right;\">\n",
       "      <th></th>\n",
       "      <th>Order Number</th>\n",
       "      <th>Order Status</th>\n",
       "      <th>Book Name</th>\n",
       "      <th>Order Date</th>\n",
       "      <th>City (Billing)</th>\n",
       "    </tr>\n",
       "  </thead>\n",
       "  <tbody>\n",
       "    <tr>\n",
       "      <th>0</th>\n",
       "      <td>70978</td>\n",
       "      <td>Completed</td>\n",
       "      <td>Column Nigari Kese Sekhain</td>\n",
       "      <td>1/20/2021 17:43</td>\n",
       "      <td>Swat</td>\n",
       "    </tr>\n",
       "    <tr>\n",
       "      <th>1</th>\n",
       "      <td>70962</td>\n",
       "      <td>Completed</td>\n",
       "      <td>??????? ?? ???? ??????</td>\n",
       "      <td>1/20/2021 13:37</td>\n",
       "      <td>Karachi</td>\n",
       "    </tr>\n",
       "    <tr>\n",
       "      <th>2</th>\n",
       "      <td>70960</td>\n",
       "      <td>Completed</td>\n",
       "      <td>Justju ka safar-1/Waqfa e Pareshani</td>\n",
       "      <td>1/20/2021 10:48</td>\n",
       "      <td>Karachi</td>\n",
       "    </tr>\n",
       "    <tr>\n",
       "      <th>3</th>\n",
       "      <td>70959</td>\n",
       "      <td>Completed</td>\n",
       "      <td>R ka Taaruf</td>\n",
       "      <td>1/20/2021 10:32</td>\n",
       "      <td>Karachi</td>\n",
       "    </tr>\n",
       "    <tr>\n",
       "      <th>4</th>\n",
       "      <td>70958</td>\n",
       "      <td>Completed</td>\n",
       "      <td>??????? ?? ???? ??????</td>\n",
       "      <td>1/20/2021 10:29</td>\n",
       "      <td>Karachi</td>\n",
       "    </tr>\n",
       "  </tbody>\n",
       "</table>\n",
       "</div>"
      ],
      "text/plain": [
       "   Order Number Order Status                            Book Name  \\\n",
       "0         70978    Completed           Column Nigari Kese Sekhain   \n",
       "1         70962    Completed               ??????? ?? ???? ??????   \n",
       "2         70960    Completed  Justju ka safar-1/Waqfa e Pareshani   \n",
       "3         70959    Completed                          R ka Taaruf   \n",
       "4         70958    Completed               ??????? ?? ???? ??????   \n",
       "\n",
       "        Order Date City (Billing)  \n",
       "0  1/20/2021 17:43           Swat  \n",
       "1  1/20/2021 13:37        Karachi  \n",
       "2  1/20/2021 10:48        Karachi  \n",
       "3  1/20/2021 10:32        Karachi  \n",
       "4  1/20/2021 10:29        Karachi  "
      ]
     },
     "execution_count": 3,
     "metadata": {},
     "output_type": "execute_result"
    }
   ],
   "source": [
    "#inspect data visually\n",
    "gp.head()"
   ]
  },
  {
   "cell_type": "markdown",
   "metadata": {},
   "source": [
    "## Dataset 2\n",
    "### Dataset Description - Guftugu Website Scraping\n",
    "**Type: HTML\n",
    "**Overview:\n",
    "I used web scraping method to scrape an HTML content of the website Guftugu Publication\n",
    "\n",
    "**Pagination:\n",
    "\n",
    "* Total Pages: 118 pages in total\n",
    "* Records per Page: Each page contains 24 records\n",
    "\n",
    "**Dataset variables:\n",
    "1. Title: Name of the book\t\n",
    "2. Category\t: category of the book\n",
    "3. Price: Price of the book\n",
    "\n",
    "The Price variable is unnecessary for the analysis, and will be identified and removed during cleaning\n",
    "\n",
    "https://gufhtugu.com/product-category/gufhtugu"
   ]
  },
  {
   "cell_type": "code",
   "execution_count": 4,
   "metadata": {
    "id": "6zT0QxRyYmm7"
   },
   "outputs": [
    {
     "name": "stdout",
     "output_type": "stream",
     "text": [
      "Failed to retrieve page 6. Status code: 404\n",
      "Data for 118 books saved to all_books_data.csv\n"
     ]
    }
   ],
   "source": [
    "#FILL IN 2nd data gathering and loading method\n",
    "import csv\n",
    "\n",
    "# Define the base URL of the book category page\n",
    "base_url = 'https://gufhtugu.com/product-category/gufhtugu-publications/'\n",
    "\n",
    "# Initialize an empty list to store all book data\n",
    "all_books_data = []\n",
    "\n",
    "# Iterate through pages\n",
    "page_number = 1\n",
    "while True:\n",
    "    # Construct the URL for the current page\n",
    "    url = f'{base_url}page/{page_number}/'\n",
    "\n",
    "    # Send an HTTP GET request to the URL\n",
    "    response = requests.get(url)\n",
    "\n",
    "    # Check if the request was successful\n",
    "    if response.status_code == 200:\n",
    "        # Parse the HTML content using BeautifulSoup\n",
    "        soup = BeautifulSoup(response.content, 'html.parser')\n",
    "\n",
    "        # Find all book items on the page\n",
    "        book_items = soup.find_all('div', class_='product-small box')\n",
    "\n",
    "        # Break the loop if there are no more book items\n",
    "        if not book_items:\n",
    "            break\n",
    "\n",
    "        # Extract and append data for each book item\n",
    "        for book_item in book_items:\n",
    "            title = book_item.find('p', class_='name product-title woocommerce-loop-product__title').text\n",
    "            category = book_item.find('p', class_='category uppercase is-smaller no-text-overflow product-cat op-7').text\n",
    "            price = book_item.find('span', class_='price').text\n",
    "\n",
    "            book_data = {\n",
    "                'Title': title,\n",
    "                'Category': category,\n",
    "                'Price': price\n",
    "            }\n",
    "\n",
    "            all_books_data.append(book_data)\n",
    "\n",
    "        # Move to the next page\n",
    "        page_number += 1\n",
    "    else:\n",
    "        print(f\"Failed to retrieve page {page_number}. Status code: {response.status_code}\")\n",
    "        break\n",
    "\n",
    "# Specify the CSV file name\n",
    "csv_file_name = 'all_books_data.csv'\n",
    "\n",
    "# Save all the book data to a CSV file\n",
    "with open(csv_file_name, 'w', newline='', encoding='utf-8') as csvfile:\n",
    "    fieldnames = ['Title', 'Category', 'Price']\n",
    "    csvwriter = csv.DictWriter(csvfile, fieldnames=fieldnames)\n",
    "    csvwriter.writeheader()\n",
    "    csvwriter.writerows(all_books_data)\n",
    "\n",
    "print(f\"Data for {len(all_books_data)} books saved to {csv_file_name}\")\n",
    "\n"
   ]
  },
  {
   "cell_type": "code",
   "execution_count": 5,
   "metadata": {},
   "outputs": [],
   "source": [
    "gp_web = pd.read_csv('all_books_data.csv')"
   ]
  },
  {
   "cell_type": "code",
   "execution_count": 6,
   "metadata": {},
   "outputs": [
    {
     "data": {
      "text/html": [
       "<div>\n",
       "<style scoped>\n",
       "    .dataframe tbody tr th:only-of-type {\n",
       "        vertical-align: middle;\n",
       "    }\n",
       "\n",
       "    .dataframe tbody tr th {\n",
       "        vertical-align: top;\n",
       "    }\n",
       "\n",
       "    .dataframe thead th {\n",
       "        text-align: right;\n",
       "    }\n",
       "</style>\n",
       "<table border=\"1\" class=\"dataframe\">\n",
       "  <thead>\n",
       "    <tr style=\"text-align: right;\">\n",
       "      <th></th>\n",
       "      <th>Title</th>\n",
       "      <th>Category</th>\n",
       "      <th>Price</th>\n",
       "    </tr>\n",
       "  </thead>\n",
       "  <tbody>\n",
       "    <tr>\n",
       "      <th>0</th>\n",
       "      <td>(C++)</td>\n",
       "      <td>\\n\\t\\t\\tBest Selling\\t\\t</td>\n",
       "      <td>₨1,000.00</td>\n",
       "    </tr>\n",
       "    <tr>\n",
       "      <th>1</th>\n",
       "      <td>Aap ka Such – آپ کا سچ</td>\n",
       "      <td>\\n\\t\\t\\tGufhtugu Publications\\t\\t</td>\n",
       "      <td>₨1,500.00</td>\n",
       "    </tr>\n",
       "    <tr>\n",
       "      <th>2</th>\n",
       "      <td>Advance System Design – ایڈوانس سسٹم ڈیزائن</td>\n",
       "      <td>\\n\\t\\t\\tEmerging Technologies\\t\\t</td>\n",
       "      <td>₨2,000.00 ₨1,500.00</td>\n",
       "    </tr>\n",
       "    <tr>\n",
       "      <th>3</th>\n",
       "      <td>AI for Babies &amp; Toddlers</td>\n",
       "      <td>\\n\\t\\t\\tBooks Under 750PKR\\t\\t</td>\n",
       "      <td>₨300.00</td>\n",
       "    </tr>\n",
       "    <tr>\n",
       "      <th>4</th>\n",
       "      <td>Aleem Ahmed Books Set – علیم احمد کتب سیٹ</td>\n",
       "      <td>\\n\\t\\t\\tAleem Ahmed\\t\\t</td>\n",
       "      <td>₨10,200.00</td>\n",
       "    </tr>\n",
       "  </tbody>\n",
       "</table>\n",
       "</div>"
      ],
      "text/plain": [
       "                                         Title  \\\n",
       "0                                        (C++)   \n",
       "1                       Aap ka Such – آپ کا سچ   \n",
       "2  Advance System Design – ایڈوانس سسٹم ڈیزائن   \n",
       "3                     AI for Babies & Toddlers   \n",
       "4    Aleem Ahmed Books Set – علیم احمد کتب سیٹ   \n",
       "\n",
       "                            Category                Price  \n",
       "0           \\n\\t\\t\\tBest Selling\\t\\t            ₨1,000.00  \n",
       "1  \\n\\t\\t\\tGufhtugu Publications\\t\\t            ₨1,500.00  \n",
       "2  \\n\\t\\t\\tEmerging Technologies\\t\\t  ₨2,000.00 ₨1,500.00  \n",
       "3     \\n\\t\\t\\tBooks Under 750PKR\\t\\t              ₨300.00  \n",
       "4            \\n\\t\\t\\tAleem Ahmed\\t\\t           ₨10,200.00  "
      ]
     },
     "execution_count": 6,
     "metadata": {},
     "output_type": "execute_result"
    }
   ],
   "source": [
    "#inspect data visually\n",
    "\n",
    "gp_web.head()"
   ]
  },
  {
   "cell_type": "markdown",
   "metadata": {
    "id": "QwSWIVmotLgV"
   },
   "source": [
    "## 2. Assess data\n",
    "\n",
    "Assess the data according to data quality and tidiness metrics using the report below.\n",
    "\n",
    "## Issue 1: Data Tideness - Every cell is a single value\n",
    "\n",
    "A typicall tidy issue when loading a dataset (gp_web) is that it has multiple values in a single column that is a tideness issue"
   ]
  },
  {
   "cell_type": "code",
   "execution_count": 7,
   "metadata": {},
   "outputs": [
    {
     "data": {
      "text/html": [
       "<div>\n",
       "<style scoped>\n",
       "    .dataframe tbody tr th:only-of-type {\n",
       "        vertical-align: middle;\n",
       "    }\n",
       "\n",
       "    .dataframe tbody tr th {\n",
       "        vertical-align: top;\n",
       "    }\n",
       "\n",
       "    .dataframe thead th {\n",
       "        text-align: right;\n",
       "    }\n",
       "</style>\n",
       "<table border=\"1\" class=\"dataframe\">\n",
       "  <thead>\n",
       "    <tr style=\"text-align: right;\">\n",
       "      <th></th>\n",
       "      <th>Title</th>\n",
       "      <th>Category</th>\n",
       "      <th>Price</th>\n",
       "    </tr>\n",
       "  </thead>\n",
       "  <tbody>\n",
       "    <tr>\n",
       "      <th>0</th>\n",
       "      <td>(C++)</td>\n",
       "      <td>\\n\\t\\t\\tBest Selling\\t\\t</td>\n",
       "      <td>₨1,000.00</td>\n",
       "    </tr>\n",
       "    <tr>\n",
       "      <th>1</th>\n",
       "      <td>Aap ka Such – آپ کا سچ</td>\n",
       "      <td>\\n\\t\\t\\tGufhtugu Publications\\t\\t</td>\n",
       "      <td>₨1,500.00</td>\n",
       "    </tr>\n",
       "    <tr>\n",
       "      <th>2</th>\n",
       "      <td>Advance System Design – ایڈوانس سسٹم ڈیزائن</td>\n",
       "      <td>\\n\\t\\t\\tEmerging Technologies\\t\\t</td>\n",
       "      <td>₨2,000.00 ₨1,500.00</td>\n",
       "    </tr>\n",
       "    <tr>\n",
       "      <th>3</th>\n",
       "      <td>AI for Babies &amp; Toddlers</td>\n",
       "      <td>\\n\\t\\t\\tBooks Under 750PKR\\t\\t</td>\n",
       "      <td>₨300.00</td>\n",
       "    </tr>\n",
       "    <tr>\n",
       "      <th>4</th>\n",
       "      <td>Aleem Ahmed Books Set – علیم احمد کتب سیٹ</td>\n",
       "      <td>\\n\\t\\t\\tAleem Ahmed\\t\\t</td>\n",
       "      <td>₨10,200.00</td>\n",
       "    </tr>\n",
       "  </tbody>\n",
       "</table>\n",
       "</div>"
      ],
      "text/plain": [
       "                                         Title  \\\n",
       "0                                        (C++)   \n",
       "1                       Aap ka Such – آپ کا سچ   \n",
       "2  Advance System Design – ایڈوانس سسٹم ڈیزائن   \n",
       "3                     AI for Babies & Toddlers   \n",
       "4    Aleem Ahmed Books Set – علیم احمد کتب سیٹ   \n",
       "\n",
       "                            Category                Price  \n",
       "0           \\n\\t\\t\\tBest Selling\\t\\t            ₨1,000.00  \n",
       "1  \\n\\t\\t\\tGufhtugu Publications\\t\\t            ₨1,500.00  \n",
       "2  \\n\\t\\t\\tEmerging Technologies\\t\\t  ₨2,000.00 ₨1,500.00  \n",
       "3     \\n\\t\\t\\tBooks Under 750PKR\\t\\t              ₨300.00  \n",
       "4            \\n\\t\\t\\tAleem Ahmed\\t\\t           ₨10,200.00  "
      ]
     },
     "execution_count": 7,
     "metadata": {},
     "output_type": "execute_result"
    }
   ],
   "source": [
    "# inspecting the dataframe visually\n",
    "gp_web.head()"
   ]
  },
  {
   "cell_type": "markdown",
   "metadata": {},
   "source": [
    "visually, we can we both Title and price are having multiple values in a single row"
   ]
  },
  {
   "cell_type": "code",
   "execution_count": 8,
   "metadata": {},
   "outputs": [
    {
     "name": "stdout",
     "output_type": "stream",
     "text": [
      "Column 'Title' has multiple values in a single cell.\n",
      "Column 'Category' has multiple values in a single cell.\n",
      "Column 'Price' has multiple values in a single cell.\n"
     ]
    }
   ],
   "source": [
    "#inspecting the dataframe gp_web programmatically\n",
    "\n",
    "\n",
    "# Check for columns with multiple values\n",
    "for column in gp_web.columns:\n",
    "    # Check if the column contains string values\n",
    "    if gp_web[column].apply(lambda x: isinstance(x, str)).all():\n",
    "        # Check if there are multiple values in a cell separated by a delimiter (e.g., comma, space)\n",
    "        if gp_web[column].str.contains(',').any() or gp_web[column].str.contains(' ').any():\n",
    "            print(f\"Column '{column}' has multiple values in a single cell.\")\n"
   ]
  },
  {
   "cell_type": "markdown",
   "metadata": {},
   "source": [
    "**multiple values in a single cell are acceptable for the 'Title' and 'Category' columns, but it is not valid for the 'Price' column**\n",
    "\n",
    "**According to my dataset 2 (GP), it also contains multiple values in the 'Book Name' column, but this is acceptable because one person can purchase more than one book. Therefore, it does not constitute a tidiness issue. Additionally, there are multiple values in the 'City' column, but these represent different districts within the same city and do not violate our analysis**"
   ]
  },
  {
   "cell_type": "markdown",
   "metadata": {},
   "source": [
    "## ISSUE 2 QUALITY CONSISTENCY:\n",
    "\n",
    "**In DataFrame gp**:\n",
    "\n",
    "\n",
    "1. Book Name Type Issue: The \"Book Name\" column should contain only string values, and special symbols or non-text characters should be removed from this column.\n",
    "\n",
    "2. City Type Issue: The \"City\" column should also contain only string values, and special symbols or non-text characters should be removed from this column\n",
    "\n",
    "**In DataFrame gp_web**:\n",
    "\n",
    "3. 1- symbols or non-text characters should be removed from the all the columns of gp_web."
   ]
  },
  {
   "cell_type": "code",
   "execution_count": 9,
   "metadata": {},
   "outputs": [
    {
     "data": {
      "text/html": [
       "<div>\n",
       "<style scoped>\n",
       "    .dataframe tbody tr th:only-of-type {\n",
       "        vertical-align: middle;\n",
       "    }\n",
       "\n",
       "    .dataframe tbody tr th {\n",
       "        vertical-align: top;\n",
       "    }\n",
       "\n",
       "    .dataframe thead th {\n",
       "        text-align: right;\n",
       "    }\n",
       "</style>\n",
       "<table border=\"1\" class=\"dataframe\">\n",
       "  <thead>\n",
       "    <tr style=\"text-align: right;\">\n",
       "      <th></th>\n",
       "      <th>Order Number</th>\n",
       "      <th>Order Status</th>\n",
       "      <th>Book Name</th>\n",
       "      <th>Order Date</th>\n",
       "      <th>City (Billing)</th>\n",
       "    </tr>\n",
       "  </thead>\n",
       "  <tbody>\n",
       "    <tr>\n",
       "      <th>0</th>\n",
       "      <td>70978</td>\n",
       "      <td>Completed</td>\n",
       "      <td>Column Nigari Kese Sekhain</td>\n",
       "      <td>1/20/2021 17:43</td>\n",
       "      <td>Swat</td>\n",
       "    </tr>\n",
       "    <tr>\n",
       "      <th>1</th>\n",
       "      <td>70962</td>\n",
       "      <td>Completed</td>\n",
       "      <td>??????? ?? ???? ??????</td>\n",
       "      <td>1/20/2021 13:37</td>\n",
       "      <td>Karachi</td>\n",
       "    </tr>\n",
       "    <tr>\n",
       "      <th>2</th>\n",
       "      <td>70960</td>\n",
       "      <td>Completed</td>\n",
       "      <td>Justju ka safar-1/Waqfa e Pareshani</td>\n",
       "      <td>1/20/2021 10:48</td>\n",
       "      <td>Karachi</td>\n",
       "    </tr>\n",
       "    <tr>\n",
       "      <th>3</th>\n",
       "      <td>70959</td>\n",
       "      <td>Completed</td>\n",
       "      <td>R ka Taaruf</td>\n",
       "      <td>1/20/2021 10:32</td>\n",
       "      <td>Karachi</td>\n",
       "    </tr>\n",
       "    <tr>\n",
       "      <th>4</th>\n",
       "      <td>70958</td>\n",
       "      <td>Completed</td>\n",
       "      <td>??????? ?? ???? ??????</td>\n",
       "      <td>1/20/2021 10:29</td>\n",
       "      <td>Karachi</td>\n",
       "    </tr>\n",
       "  </tbody>\n",
       "</table>\n",
       "</div>"
      ],
      "text/plain": [
       "   Order Number Order Status                            Book Name  \\\n",
       "0         70978    Completed           Column Nigari Kese Sekhain   \n",
       "1         70962    Completed               ??????? ?? ???? ??????   \n",
       "2         70960    Completed  Justju ka safar-1/Waqfa e Pareshani   \n",
       "3         70959    Completed                          R ka Taaruf   \n",
       "4         70958    Completed               ??????? ?? ???? ??????   \n",
       "\n",
       "        Order Date City (Billing)  \n",
       "0  1/20/2021 17:43           Swat  \n",
       "1  1/20/2021 13:37        Karachi  \n",
       "2  1/20/2021 10:48        Karachi  \n",
       "3  1/20/2021 10:32        Karachi  \n",
       "4  1/20/2021 10:29        Karachi  "
      ]
     },
     "execution_count": 9,
     "metadata": {},
     "output_type": "execute_result"
    }
   ],
   "source": [
    "#inspecting programmatically dataframe gp\n",
    "gp.head()"
   ]
  },
  {
   "cell_type": "markdown",
   "metadata": {},
   "source": [
    "symbols or non-text characters should be removed from the Book Name and City (Billing) columns of gp. "
   ]
  },
  {
   "cell_type": "code",
   "execution_count": 10,
   "metadata": {},
   "outputs": [
    {
     "data": {
      "text/html": [
       "<div>\n",
       "<style scoped>\n",
       "    .dataframe tbody tr th:only-of-type {\n",
       "        vertical-align: middle;\n",
       "    }\n",
       "\n",
       "    .dataframe tbody tr th {\n",
       "        vertical-align: top;\n",
       "    }\n",
       "\n",
       "    .dataframe thead th {\n",
       "        text-align: right;\n",
       "    }\n",
       "</style>\n",
       "<table border=\"1\" class=\"dataframe\">\n",
       "  <thead>\n",
       "    <tr style=\"text-align: right;\">\n",
       "      <th></th>\n",
       "      <th>Title</th>\n",
       "      <th>Category</th>\n",
       "      <th>Price</th>\n",
       "    </tr>\n",
       "  </thead>\n",
       "  <tbody>\n",
       "    <tr>\n",
       "      <th>0</th>\n",
       "      <td>(C++)</td>\n",
       "      <td>\\n\\t\\t\\tBest Selling\\t\\t</td>\n",
       "      <td>₨1,000.00</td>\n",
       "    </tr>\n",
       "    <tr>\n",
       "      <th>1</th>\n",
       "      <td>Aap ka Such – آپ کا سچ</td>\n",
       "      <td>\\n\\t\\t\\tGufhtugu Publications\\t\\t</td>\n",
       "      <td>₨1,500.00</td>\n",
       "    </tr>\n",
       "    <tr>\n",
       "      <th>2</th>\n",
       "      <td>Advance System Design – ایڈوانس سسٹم ڈیزائن</td>\n",
       "      <td>\\n\\t\\t\\tEmerging Technologies\\t\\t</td>\n",
       "      <td>₨2,000.00 ₨1,500.00</td>\n",
       "    </tr>\n",
       "    <tr>\n",
       "      <th>3</th>\n",
       "      <td>AI for Babies &amp; Toddlers</td>\n",
       "      <td>\\n\\t\\t\\tBooks Under 750PKR\\t\\t</td>\n",
       "      <td>₨300.00</td>\n",
       "    </tr>\n",
       "    <tr>\n",
       "      <th>4</th>\n",
       "      <td>Aleem Ahmed Books Set – علیم احمد کتب سیٹ</td>\n",
       "      <td>\\n\\t\\t\\tAleem Ahmed\\t\\t</td>\n",
       "      <td>₨10,200.00</td>\n",
       "    </tr>\n",
       "  </tbody>\n",
       "</table>\n",
       "</div>"
      ],
      "text/plain": [
       "                                         Title  \\\n",
       "0                                        (C++)   \n",
       "1                       Aap ka Such – آپ کا سچ   \n",
       "2  Advance System Design – ایڈوانس سسٹم ڈیزائن   \n",
       "3                     AI for Babies & Toddlers   \n",
       "4    Aleem Ahmed Books Set – علیم احمد کتب سیٹ   \n",
       "\n",
       "                            Category                Price  \n",
       "0           \\n\\t\\t\\tBest Selling\\t\\t            ₨1,000.00  \n",
       "1  \\n\\t\\t\\tGufhtugu Publications\\t\\t            ₨1,500.00  \n",
       "2  \\n\\t\\t\\tEmerging Technologies\\t\\t  ₨2,000.00 ₨1,500.00  \n",
       "3     \\n\\t\\t\\tBooks Under 750PKR\\t\\t              ₨300.00  \n",
       "4            \\n\\t\\t\\tAleem Ahmed\\t\\t           ₨10,200.00  "
      ]
     },
     "execution_count": 10,
     "metadata": {},
     "output_type": "execute_result"
    }
   ],
   "source": [
    "#inspecting programmatically dataframe gp_web\n",
    "gp_web.head()"
   ]
  },
  {
   "cell_type": "markdown",
   "metadata": {},
   "source": [
    "symbols or non-text characters should be removed from the all the columns of gp_web."
   ]
  },
  {
   "cell_type": "markdown",
   "metadata": {},
   "source": [
    "## ISSUE 3: QUALITY VALIDITY"
   ]
  },
  {
   "cell_type": "markdown",
   "metadata": {},
   "source": [
    "**In gp**\n",
    "Order Date Format Issue: The \"Order Date\" column should be converted to a datetime format to facilitate date-related operations.\n"
   ]
  },
  {
   "cell_type": "code",
   "execution_count": 11,
   "metadata": {},
   "outputs": [
    {
     "data": {
      "text/plain": [
       "Order Number       int64\n",
       "Order Status      object\n",
       "Book Name         object\n",
       "Order Date        object\n",
       "City (Billing)    object\n",
       "dtype: object"
      ]
     },
     "execution_count": 11,
     "metadata": {},
     "output_type": "execute_result"
    }
   ],
   "source": [
    "#inspect programmatically\n",
    "gp.dtypes"
   ]
  },
  {
   "cell_type": "code",
   "execution_count": 12,
   "metadata": {},
   "outputs": [
    {
     "data": {
      "text/plain": [
       "Title       object\n",
       "Category    object\n",
       "Price       object\n",
       "dtype: object"
      ]
     },
     "execution_count": 12,
     "metadata": {},
     "output_type": "execute_result"
    }
   ],
   "source": [
    "gp_web.dtypes"
   ]
  },
  {
   "cell_type": "markdown",
   "metadata": {},
   "source": [
    "The data types shownin gp_web for the columns appear to be valid data types in a DataFrame. "
   ]
  },
  {
   "cell_type": "code",
   "execution_count": 13,
   "metadata": {},
   "outputs": [],
   "source": [
    "assert gp['Order Number'].dtypes == 'int64'\n"
   ]
  },
  {
   "cell_type": "markdown",
   "metadata": {
    "id": "D6gmLnBttpCh"
   },
   "source": [
    "## 3. Clean data\n",
    "Clean the data to solve the 4 issues corresponding to data quality and tidiness found in the assessing step. **Make sure you include justifications for your cleaning decisions.**\n",
    "\n",
    "After the cleaning for each issue, please use **either** the visually or programatical method to validate the cleaning was succesful.\n",
    "\n",
    "At this stage, you are also expected to remove variables that are unnecessary for your analysis and combine your datasets. Depending on your datasets, you may choose to perform variable combination and elimination before or after the cleaning stage. Your dataset must have **at least** 4 variables after combining the data."
   ]
  },
  {
   "cell_type": "code",
   "execution_count": 14,
   "metadata": {},
   "outputs": [],
   "source": [
    "# FILL IN - Make copies of the datasets to ensure the raw dataframes \n",
    "copied_gp = gp.copy()\n"
   ]
  },
  {
   "cell_type": "code",
   "execution_count": 15,
   "metadata": {},
   "outputs": [],
   "source": [
    "copied_gp_web = gp_web.copy()"
   ]
  },
  {
   "cell_type": "code",
   "execution_count": 16,
   "metadata": {},
   "outputs": [
    {
     "data": {
      "text/html": [
       "<div>\n",
       "<style scoped>\n",
       "    .dataframe tbody tr th:only-of-type {\n",
       "        vertical-align: middle;\n",
       "    }\n",
       "\n",
       "    .dataframe tbody tr th {\n",
       "        vertical-align: top;\n",
       "    }\n",
       "\n",
       "    .dataframe thead th {\n",
       "        text-align: right;\n",
       "    }\n",
       "</style>\n",
       "<table border=\"1\" class=\"dataframe\">\n",
       "  <thead>\n",
       "    <tr style=\"text-align: right;\">\n",
       "      <th></th>\n",
       "      <th>Order Number</th>\n",
       "      <th>Order Status</th>\n",
       "      <th>Book Name</th>\n",
       "      <th>Order Date</th>\n",
       "      <th>City (Billing)</th>\n",
       "    </tr>\n",
       "  </thead>\n",
       "  <tbody>\n",
       "    <tr>\n",
       "      <th>0</th>\n",
       "      <td>70978</td>\n",
       "      <td>Completed</td>\n",
       "      <td>Column Nigari Kese Sekhain</td>\n",
       "      <td>1/20/2021 17:43</td>\n",
       "      <td>Swat</td>\n",
       "    </tr>\n",
       "    <tr>\n",
       "      <th>1</th>\n",
       "      <td>70962</td>\n",
       "      <td>Completed</td>\n",
       "      <td>??????? ?? ???? ??????</td>\n",
       "      <td>1/20/2021 13:37</td>\n",
       "      <td>Karachi</td>\n",
       "    </tr>\n",
       "    <tr>\n",
       "      <th>2</th>\n",
       "      <td>70960</td>\n",
       "      <td>Completed</td>\n",
       "      <td>Justju ka safar-1/Waqfa e Pareshani</td>\n",
       "      <td>1/20/2021 10:48</td>\n",
       "      <td>Karachi</td>\n",
       "    </tr>\n",
       "    <tr>\n",
       "      <th>3</th>\n",
       "      <td>70959</td>\n",
       "      <td>Completed</td>\n",
       "      <td>R ka Taaruf</td>\n",
       "      <td>1/20/2021 10:32</td>\n",
       "      <td>Karachi</td>\n",
       "    </tr>\n",
       "    <tr>\n",
       "      <th>4</th>\n",
       "      <td>70958</td>\n",
       "      <td>Completed</td>\n",
       "      <td>??????? ?? ???? ??????</td>\n",
       "      <td>1/20/2021 10:29</td>\n",
       "      <td>Karachi</td>\n",
       "    </tr>\n",
       "  </tbody>\n",
       "</table>\n",
       "</div>"
      ],
      "text/plain": [
       "   Order Number Order Status                            Book Name  \\\n",
       "0         70978    Completed           Column Nigari Kese Sekhain   \n",
       "1         70962    Completed               ??????? ?? ???? ??????   \n",
       "2         70960    Completed  Justju ka safar-1/Waqfa e Pareshani   \n",
       "3         70959    Completed                          R ka Taaruf   \n",
       "4         70958    Completed               ??????? ?? ???? ??????   \n",
       "\n",
       "        Order Date City (Billing)  \n",
       "0  1/20/2021 17:43           Swat  \n",
       "1  1/20/2021 13:37        Karachi  \n",
       "2  1/20/2021 10:48        Karachi  \n",
       "3  1/20/2021 10:32        Karachi  \n",
       "4  1/20/2021 10:29        Karachi  "
      ]
     },
     "execution_count": 16,
     "metadata": {},
     "output_type": "execute_result"
    }
   ],
   "source": [
    "copied_gp.head()"
   ]
  },
  {
   "cell_type": "markdown",
   "metadata": {},
   "source": [
    "### RESOLVING CONSISTENCY ISSUES IN BOTH DATASETS"
   ]
  },
  {
   "cell_type": "code",
   "execution_count": 17,
   "metadata": {},
   "outputs": [],
   "source": [
    "#CONSISTENCY CHECK\n",
    "# Clean the \"Book Name\" column to remove special symbols\n",
    "# Clean the \"Book Name\" column to remove special symbols\n",
    "copied_gp['Book Name'] = copied_gp['Book Name'].str.replace(r'[^A-Za-z\\s]+', '', regex=True)\n",
    "\n",
    "# Clean the \"City (Billing)\" column to remove special symbols\n",
    "copied_gp['City (Billing)'] = copied_gp['City (Billing)'].str.replace(r'[^A-Za-z\\s]+', '', regex=True)"
   ]
  },
  {
   "cell_type": "code",
   "execution_count": 18,
   "metadata": {},
   "outputs": [
    {
     "data": {
      "text/html": [
       "<div>\n",
       "<style scoped>\n",
       "    .dataframe tbody tr th:only-of-type {\n",
       "        vertical-align: middle;\n",
       "    }\n",
       "\n",
       "    .dataframe tbody tr th {\n",
       "        vertical-align: top;\n",
       "    }\n",
       "\n",
       "    .dataframe thead th {\n",
       "        text-align: right;\n",
       "    }\n",
       "</style>\n",
       "<table border=\"1\" class=\"dataframe\">\n",
       "  <thead>\n",
       "    <tr style=\"text-align: right;\">\n",
       "      <th></th>\n",
       "      <th>Order Number</th>\n",
       "      <th>Order Status</th>\n",
       "      <th>Book Name</th>\n",
       "      <th>Order Date</th>\n",
       "      <th>City (Billing)</th>\n",
       "    </tr>\n",
       "  </thead>\n",
       "  <tbody>\n",
       "    <tr>\n",
       "      <th>0</th>\n",
       "      <td>70978</td>\n",
       "      <td>Completed</td>\n",
       "      <td>Column Nigari Kese Sekhain</td>\n",
       "      <td>1/20/2021 17:43</td>\n",
       "      <td>Swat</td>\n",
       "    </tr>\n",
       "    <tr>\n",
       "      <th>1</th>\n",
       "      <td>70962</td>\n",
       "      <td>Completed</td>\n",
       "      <td></td>\n",
       "      <td>1/20/2021 13:37</td>\n",
       "      <td>Karachi</td>\n",
       "    </tr>\n",
       "    <tr>\n",
       "      <th>2</th>\n",
       "      <td>70960</td>\n",
       "      <td>Completed</td>\n",
       "      <td>Justju ka safarWaqfa e Pareshani</td>\n",
       "      <td>1/20/2021 10:48</td>\n",
       "      <td>Karachi</td>\n",
       "    </tr>\n",
       "    <tr>\n",
       "      <th>3</th>\n",
       "      <td>70959</td>\n",
       "      <td>Completed</td>\n",
       "      <td>R ka Taaruf</td>\n",
       "      <td>1/20/2021 10:32</td>\n",
       "      <td>Karachi</td>\n",
       "    </tr>\n",
       "    <tr>\n",
       "      <th>4</th>\n",
       "      <td>70958</td>\n",
       "      <td>Completed</td>\n",
       "      <td></td>\n",
       "      <td>1/20/2021 10:29</td>\n",
       "      <td>Karachi</td>\n",
       "    </tr>\n",
       "  </tbody>\n",
       "</table>\n",
       "</div>"
      ],
      "text/plain": [
       "   Order Number Order Status                         Book Name  \\\n",
       "0         70978    Completed        Column Nigari Kese Sekhain   \n",
       "1         70962    Completed                                     \n",
       "2         70960    Completed  Justju ka safarWaqfa e Pareshani   \n",
       "3         70959    Completed                       R ka Taaruf   \n",
       "4         70958    Completed                                     \n",
       "\n",
       "        Order Date City (Billing)  \n",
       "0  1/20/2021 17:43           Swat  \n",
       "1  1/20/2021 13:37        Karachi  \n",
       "2  1/20/2021 10:48        Karachi  \n",
       "3  1/20/2021 10:32        Karachi  \n",
       "4  1/20/2021 10:29        Karachi  "
      ]
     },
     "execution_count": 18,
     "metadata": {},
     "output_type": "execute_result"
    }
   ],
   "source": [
    "copied_gp.head()"
   ]
  },
  {
   "cell_type": "code",
   "execution_count": 19,
   "metadata": {},
   "outputs": [],
   "source": [
    "# Strip leading and trailing whitespace\n",
    "copied_gp= copied_gp.apply(lambda x: x.str.strip() if x.dtype == \"object\" else x)\n",
    "\n",
    "# Replace empty cells with NaN\n",
    "copied_gp = copied_gp.replace('', np.nan)"
   ]
  },
  {
   "cell_type": "code",
   "execution_count": 20,
   "metadata": {},
   "outputs": [
    {
     "data": {
      "text/html": [
       "<div>\n",
       "<style scoped>\n",
       "    .dataframe tbody tr th:only-of-type {\n",
       "        vertical-align: middle;\n",
       "    }\n",
       "\n",
       "    .dataframe tbody tr th {\n",
       "        vertical-align: top;\n",
       "    }\n",
       "\n",
       "    .dataframe thead th {\n",
       "        text-align: right;\n",
       "    }\n",
       "</style>\n",
       "<table border=\"1\" class=\"dataframe\">\n",
       "  <thead>\n",
       "    <tr style=\"text-align: right;\">\n",
       "      <th></th>\n",
       "      <th>Order Number</th>\n",
       "      <th>Order Status</th>\n",
       "      <th>Book Name</th>\n",
       "      <th>Order Date</th>\n",
       "      <th>City (Billing)</th>\n",
       "    </tr>\n",
       "  </thead>\n",
       "  <tbody>\n",
       "    <tr>\n",
       "      <th>0</th>\n",
       "      <td>70978</td>\n",
       "      <td>Completed</td>\n",
       "      <td>Column Nigari Kese Sekhain</td>\n",
       "      <td>1/20/2021 17:43</td>\n",
       "      <td>Swat</td>\n",
       "    </tr>\n",
       "    <tr>\n",
       "      <th>1</th>\n",
       "      <td>70962</td>\n",
       "      <td>Completed</td>\n",
       "      <td>NaN</td>\n",
       "      <td>1/20/2021 13:37</td>\n",
       "      <td>Karachi</td>\n",
       "    </tr>\n",
       "    <tr>\n",
       "      <th>2</th>\n",
       "      <td>70960</td>\n",
       "      <td>Completed</td>\n",
       "      <td>Justju ka safarWaqfa e Pareshani</td>\n",
       "      <td>1/20/2021 10:48</td>\n",
       "      <td>Karachi</td>\n",
       "    </tr>\n",
       "    <tr>\n",
       "      <th>3</th>\n",
       "      <td>70959</td>\n",
       "      <td>Completed</td>\n",
       "      <td>R ka Taaruf</td>\n",
       "      <td>1/20/2021 10:32</td>\n",
       "      <td>Karachi</td>\n",
       "    </tr>\n",
       "    <tr>\n",
       "      <th>4</th>\n",
       "      <td>70958</td>\n",
       "      <td>Completed</td>\n",
       "      <td>NaN</td>\n",
       "      <td>1/20/2021 10:29</td>\n",
       "      <td>Karachi</td>\n",
       "    </tr>\n",
       "  </tbody>\n",
       "</table>\n",
       "</div>"
      ],
      "text/plain": [
       "   Order Number Order Status                         Book Name  \\\n",
       "0         70978    Completed        Column Nigari Kese Sekhain   \n",
       "1         70962    Completed                               NaN   \n",
       "2         70960    Completed  Justju ka safarWaqfa e Pareshani   \n",
       "3         70959    Completed                       R ka Taaruf   \n",
       "4         70958    Completed                               NaN   \n",
       "\n",
       "        Order Date City (Billing)  \n",
       "0  1/20/2021 17:43           Swat  \n",
       "1  1/20/2021 13:37        Karachi  \n",
       "2  1/20/2021 10:48        Karachi  \n",
       "3  1/20/2021 10:32        Karachi  \n",
       "4  1/20/2021 10:29        Karachi  "
      ]
     },
     "execution_count": 20,
     "metadata": {},
     "output_type": "execute_result"
    }
   ],
   "source": [
    "copied_gp.head()"
   ]
  },
  {
   "cell_type": "markdown",
   "metadata": {},
   "source": [
    "Consistency issues resolved in the dataset copied_gp"
   ]
  },
  {
   "cell_type": "code",
   "execution_count": 21,
   "metadata": {},
   "outputs": [
    {
     "data": {
      "text/html": [
       "<div>\n",
       "<style scoped>\n",
       "    .dataframe tbody tr th:only-of-type {\n",
       "        vertical-align: middle;\n",
       "    }\n",
       "\n",
       "    .dataframe tbody tr th {\n",
       "        vertical-align: top;\n",
       "    }\n",
       "\n",
       "    .dataframe thead th {\n",
       "        text-align: right;\n",
       "    }\n",
       "</style>\n",
       "<table border=\"1\" class=\"dataframe\">\n",
       "  <thead>\n",
       "    <tr style=\"text-align: right;\">\n",
       "      <th></th>\n",
       "      <th>Title</th>\n",
       "      <th>Category</th>\n",
       "      <th>Price</th>\n",
       "    </tr>\n",
       "  </thead>\n",
       "  <tbody>\n",
       "    <tr>\n",
       "      <th>0</th>\n",
       "      <td>(C++)</td>\n",
       "      <td>\\n\\t\\t\\tBest Selling\\t\\t</td>\n",
       "      <td>₨1,000.00</td>\n",
       "    </tr>\n",
       "    <tr>\n",
       "      <th>1</th>\n",
       "      <td>Aap ka Such – آپ کا سچ</td>\n",
       "      <td>\\n\\t\\t\\tGufhtugu Publications\\t\\t</td>\n",
       "      <td>₨1,500.00</td>\n",
       "    </tr>\n",
       "    <tr>\n",
       "      <th>2</th>\n",
       "      <td>Advance System Design – ایڈوانس سسٹم ڈیزائن</td>\n",
       "      <td>\\n\\t\\t\\tEmerging Technologies\\t\\t</td>\n",
       "      <td>₨2,000.00 ₨1,500.00</td>\n",
       "    </tr>\n",
       "    <tr>\n",
       "      <th>3</th>\n",
       "      <td>AI for Babies &amp; Toddlers</td>\n",
       "      <td>\\n\\t\\t\\tBooks Under 750PKR\\t\\t</td>\n",
       "      <td>₨300.00</td>\n",
       "    </tr>\n",
       "    <tr>\n",
       "      <th>4</th>\n",
       "      <td>Aleem Ahmed Books Set – علیم احمد کتب سیٹ</td>\n",
       "      <td>\\n\\t\\t\\tAleem Ahmed\\t\\t</td>\n",
       "      <td>₨10,200.00</td>\n",
       "    </tr>\n",
       "  </tbody>\n",
       "</table>\n",
       "</div>"
      ],
      "text/plain": [
       "                                         Title  \\\n",
       "0                                        (C++)   \n",
       "1                       Aap ka Such – آپ کا سچ   \n",
       "2  Advance System Design – ایڈوانس سسٹم ڈیزائن   \n",
       "3                     AI for Babies & Toddlers   \n",
       "4    Aleem Ahmed Books Set – علیم احمد کتب سیٹ   \n",
       "\n",
       "                            Category                Price  \n",
       "0           \\n\\t\\t\\tBest Selling\\t\\t            ₨1,000.00  \n",
       "1  \\n\\t\\t\\tGufhtugu Publications\\t\\t            ₨1,500.00  \n",
       "2  \\n\\t\\t\\tEmerging Technologies\\t\\t  ₨2,000.00 ₨1,500.00  \n",
       "3     \\n\\t\\t\\tBooks Under 750PKR\\t\\t              ₨300.00  \n",
       "4            \\n\\t\\t\\tAleem Ahmed\\t\\t           ₨10,200.00  "
      ]
     },
     "execution_count": 21,
     "metadata": {},
     "output_type": "execute_result"
    }
   ],
   "source": [
    "copied_gp_web.head()"
   ]
  },
  {
   "cell_type": "code",
   "execution_count": 22,
   "metadata": {},
   "outputs": [],
   "source": [
    "import re\n",
    "# Define a regular expression pattern to match English book names\n",
    "english_pattern = re.compile(r'[A-Za-z+ ]+')\n",
    "\n",
    "# Assuming you have a DataFrame called 'book' with a 'title' column\n",
    "# Apply the regular expression to the 'title' column and create a new 'Book Name' column\n",
    "copied_gp_web['Book Name'] = copied_gp_web['Title'].apply(lambda x: ' '.join(english_pattern.findall(x)))\n",
    "\n",
    "copied_gp_web['Category'] = copied_gp_web['Category'].str.replace(r'[\\n\\t]+', '', regex=True)\n",
    "\n",
    "# Drop the original 'title' column if not needed\n",
    "copied_gp_web = copied_gp_web.drop(columns=['Title'])\n"
   ]
  },
  {
   "cell_type": "code",
   "execution_count": 23,
   "metadata": {},
   "outputs": [
    {
     "data": {
      "text/html": [
       "<div>\n",
       "<style scoped>\n",
       "    .dataframe tbody tr th:only-of-type {\n",
       "        vertical-align: middle;\n",
       "    }\n",
       "\n",
       "    .dataframe tbody tr th {\n",
       "        vertical-align: top;\n",
       "    }\n",
       "\n",
       "    .dataframe thead th {\n",
       "        text-align: right;\n",
       "    }\n",
       "</style>\n",
       "<table border=\"1\" class=\"dataframe\">\n",
       "  <thead>\n",
       "    <tr style=\"text-align: right;\">\n",
       "      <th></th>\n",
       "      <th>Category</th>\n",
       "      <th>Price</th>\n",
       "      <th>Book Name</th>\n",
       "    </tr>\n",
       "  </thead>\n",
       "  <tbody>\n",
       "    <tr>\n",
       "      <th>0</th>\n",
       "      <td>Best Selling</td>\n",
       "      <td>₨1,000.00</td>\n",
       "      <td>C++</td>\n",
       "    </tr>\n",
       "    <tr>\n",
       "      <th>1</th>\n",
       "      <td>Gufhtugu Publications</td>\n",
       "      <td>₨1,500.00</td>\n",
       "      <td>Aap ka Such</td>\n",
       "    </tr>\n",
       "    <tr>\n",
       "      <th>2</th>\n",
       "      <td>Emerging Technologies</td>\n",
       "      <td>₨2,000.00 ₨1,500.00</td>\n",
       "      <td>Advance System Design</td>\n",
       "    </tr>\n",
       "    <tr>\n",
       "      <th>3</th>\n",
       "      <td>Books Under 750PKR</td>\n",
       "      <td>₨300.00</td>\n",
       "      <td>AI for Babies   Toddlers</td>\n",
       "    </tr>\n",
       "    <tr>\n",
       "      <th>4</th>\n",
       "      <td>Aleem Ahmed</td>\n",
       "      <td>₨10,200.00</td>\n",
       "      <td>Aleem Ahmed Books Set</td>\n",
       "    </tr>\n",
       "  </tbody>\n",
       "</table>\n",
       "</div>"
      ],
      "text/plain": [
       "                Category                Price                       Book Name\n",
       "0           Best Selling            ₨1,000.00                             C++\n",
       "1  Gufhtugu Publications            ₨1,500.00              Aap ka Such       \n",
       "2  Emerging Technologies  ₨2,000.00 ₨1,500.00    Advance System Design       \n",
       "3     Books Under 750PKR              ₨300.00        AI for Babies   Toddlers\n",
       "4            Aleem Ahmed           ₨10,200.00  Aleem Ahmed Books Set         "
      ]
     },
     "execution_count": 23,
     "metadata": {},
     "output_type": "execute_result"
    }
   ],
   "source": [
    "copied_gp_web.head()"
   ]
  },
  {
   "cell_type": "markdown",
   "metadata": {},
   "source": [
    "### RESOLVED CONSISTENCY ISSUES IN BOTH DATAFRAMES"
   ]
  },
  {
   "cell_type": "markdown",
   "metadata": {},
   "source": [
    "## RESOLVING  VALIDITY ISSUES "
   ]
  },
  {
   "cell_type": "code",
   "execution_count": 24,
   "metadata": {},
   "outputs": [],
   "source": [
    "#change the data type of Order Date\n",
    "copied_gp['Order Date'] = pd.to_datetime(copied_gp['Order Date']).dt.date"
   ]
  },
  {
   "cell_type": "markdown",
   "metadata": {},
   "source": [
    "### RESOLVED VALIDITY AND CONSISTENCY ISSUES IN BOTH THE DATASETS"
   ]
  },
  {
   "cell_type": "markdown",
   "metadata": {},
   "source": [
    "As the tidiness issues lies with the column name PRICE and i dont want that perticulary Price column so im am droping that and this is the only Tidiness issue i these datasets"
   ]
  },
  {
   "cell_type": "markdown",
   "metadata": {},
   "source": [
    "### **Remove unnecessary variables and combine datasets**\n",
    "\n",
    "Depending on the datasets, you can also peform the combination before the cleaning steps."
   ]
  },
  {
   "cell_type": "code",
   "execution_count": 25,
   "metadata": {},
   "outputs": [],
   "source": [
    "copied_gp_web = copied_gp_web.drop(columns=['Price'])\n"
   ]
  },
  {
   "cell_type": "code",
   "execution_count": 26,
   "metadata": {},
   "outputs": [],
   "source": [
    "copied_gp = copied_gp.drop(columns = ['City (Billing)'])"
   ]
  },
  {
   "cell_type": "code",
   "execution_count": 27,
   "metadata": {},
   "outputs": [],
   "source": [
    "#merge 2 dataframes into 1\n",
    "merged_df = pd.merge(copied_gp, copied_gp_web, on='Book Name', how='inner')\n"
   ]
  },
  {
   "cell_type": "code",
   "execution_count": 28,
   "metadata": {},
   "outputs": [
    {
     "data": {
      "text/html": [
       "<div>\n",
       "<style scoped>\n",
       "    .dataframe tbody tr th:only-of-type {\n",
       "        vertical-align: middle;\n",
       "    }\n",
       "\n",
       "    .dataframe tbody tr th {\n",
       "        vertical-align: top;\n",
       "    }\n",
       "\n",
       "    .dataframe thead th {\n",
       "        text-align: right;\n",
       "    }\n",
       "</style>\n",
       "<table border=\"1\" class=\"dataframe\">\n",
       "  <thead>\n",
       "    <tr style=\"text-align: right;\">\n",
       "      <th></th>\n",
       "      <th>Order Number</th>\n",
       "      <th>Order Status</th>\n",
       "      <th>Book Name</th>\n",
       "      <th>Order Date</th>\n",
       "      <th>Category</th>\n",
       "    </tr>\n",
       "  </thead>\n",
       "  <tbody>\n",
       "    <tr>\n",
       "      <th>0</th>\n",
       "      <td>70959</td>\n",
       "      <td>Completed</td>\n",
       "      <td>R ka Taaruf</td>\n",
       "      <td>2021-01-20</td>\n",
       "      <td>Books Under 750PKR</td>\n",
       "    </tr>\n",
       "    <tr>\n",
       "      <th>1</th>\n",
       "      <td>70783</td>\n",
       "      <td>Completed</td>\n",
       "      <td>R ka Taaruf</td>\n",
       "      <td>2021-01-16</td>\n",
       "      <td>Books Under 750PKR</td>\n",
       "    </tr>\n",
       "    <tr>\n",
       "      <th>2</th>\n",
       "      <td>70585</td>\n",
       "      <td>Completed</td>\n",
       "      <td>R ka Taaruf</td>\n",
       "      <td>2021-01-14</td>\n",
       "      <td>Books Under 750PKR</td>\n",
       "    </tr>\n",
       "    <tr>\n",
       "      <th>3</th>\n",
       "      <td>70550</td>\n",
       "      <td>Completed</td>\n",
       "      <td>R ka Taaruf</td>\n",
       "      <td>2021-01-14</td>\n",
       "      <td>Books Under 750PKR</td>\n",
       "    </tr>\n",
       "    <tr>\n",
       "      <th>4</th>\n",
       "      <td>70379</td>\n",
       "      <td>Completed</td>\n",
       "      <td>R ka Taaruf</td>\n",
       "      <td>2021-01-11</td>\n",
       "      <td>Books Under 750PKR</td>\n",
       "    </tr>\n",
       "  </tbody>\n",
       "</table>\n",
       "</div>"
      ],
      "text/plain": [
       "   Order Number Order Status    Book Name  Order Date            Category\n",
       "0         70959    Completed  R ka Taaruf  2021-01-20  Books Under 750PKR\n",
       "1         70783    Completed  R ka Taaruf  2021-01-16  Books Under 750PKR\n",
       "2         70585    Completed  R ka Taaruf  2021-01-14  Books Under 750PKR\n",
       "3         70550    Completed  R ka Taaruf  2021-01-14  Books Under 750PKR\n",
       "4         70379    Completed  R ka Taaruf  2021-01-11  Books Under 750PKR"
      ]
     },
     "execution_count": 28,
     "metadata": {},
     "output_type": "execute_result"
    }
   ],
   "source": [
    "merged_df.head()"
   ]
  },
  {
   "cell_type": "markdown",
   "metadata": {
    "id": "F42urHuzttjF"
   },
   "source": [
    "## 4. Update your data store\n",
    "Update your local database/data store with the cleaned data, following best practices for storing your cleaned data:\n",
    "\n",
    "- Must maintain different instances / versions of data (raw and cleaned data)\n",
    "- Must name the dataset files informatively\n",
    "- Ensure both the raw and cleaned data is saved to your database/data store"
   ]
  },
  {
   "cell_type": "code",
   "execution_count": 29,
   "metadata": {
    "id": "V3uay7EJUV_L"
   },
   "outputs": [
    {
     "name": "stdout",
     "output_type": "stream",
     "text": [
      "Merged data saved to Merged_Data.csv\n"
     ]
    }
   ],
   "source": [
    "#FILL IN - saving data\n",
    "# Specify the CSV file name for the merged DataFrame\n",
    "csv_file_name = 'Merged_Data.csv'\n",
    "\n",
    "# Save the merged DataFrame to a CSV file\n",
    "merged_df.to_csv(csv_file_name, index=False)\n",
    "\n",
    "print(f\"Merged data saved to {csv_file_name}\")\n"
   ]
  },
  {
   "cell_type": "markdown",
   "metadata": {
    "id": "cGy_yddGtzhM"
   },
   "source": [
    "## 5. Answer the research question\n",
    "\n",
    "### **5.1:** Define and answer the research question \n",
    "Going back to the problem statement in step 1, use the cleaned data to answer the question you raised. Produce **at least** two visualizations using the cleaned data and explain how they help you answer the question."
   ]
  },
  {
   "cell_type": "markdown",
   "metadata": {
    "id": "gjedE4s4ZkEd"
   },
   "source": [
    "\n",
    "# Question: What is the distribution of book counts among different categories?\n"
   ]
  },
  {
   "cell_type": "code",
   "execution_count": 30,
   "metadata": {
    "id": "Lkw3rW9kZmOm"
   },
   "outputs": [
    {
     "data": {
      "image/png": "[encoded data removed]",
      "text/plain": [
       "<Figure size 1000x600 with 1 Axes>"
      ]
     },
     "metadata": {},
     "output_type": "display_data"
    }
   ],
   "source": [
    "#Visual 1 - FILL IN\n",
    "# 'Category' is the column containing book categories in your DataFrame\n",
    "category_counts = merged_df['Category'].value_counts()\n",
    "\n",
    "# Create a bar chart\n",
    "plt.figure(figsize=(10, 6))\n",
    "category_counts.plot(kind='bar')\n",
    "plt.title('Count of Books in Each Category')\n",
    "plt.xlabel('Category')\n",
    "plt.ylabel('Count')\n",
    "plt.xticks(rotation=45)  # Rotate x-axis labels for better readability\n",
    "\n",
    "plt.show()\n"
   ]
  },
  {
   "cell_type": "markdown",
   "metadata": {},
   "source": [
    "The highest count of books is approximately 2500, which is the largest count,\n",
    "while the smallest count is for the \"ar usmani\" category.\n"
   ]
  },
  {
   "cell_type": "markdown",
   "metadata": {},
   "source": [
    "## Question: What is the distribution of order statuses as a percentage of the total number of orders?\n"
   ]
  },
  {
   "cell_type": "code",
   "execution_count": 31,
   "metadata": {
    "id": "6fdK_8ZGZm9R"
   },
   "outputs": [
    {
     "data": {
      "image/png": "[encoded data removed]",
      "text/plain": [
       "<Figure size 1000x600 with 1 Axes>"
      ]
     },
     "metadata": {},
     "output_type": "display_data"
    }
   ],
   "source": [
    "\n",
    "plt.figure(figsize=(10, 6));\n",
    "order_status_counts = merged_df['Order Status'].value_counts()\n",
    "order_status_counts.plot(kind='bar')\n",
    "plt.title('Distribution of Order Statuses');\n",
    "plt.xlabel('Order Status')\n",
    "plt.ylabel('Number of Orders')\n",
    "plt.xticks(rotation=45);\n"
   ]
  },
  {
   "cell_type": "markdown",
   "metadata": {
    "id": "K5RgvMGUZoHn"
   },
   "source": [
    "The highest number of orders are completed that"
   ]
  },
  {
   "cell_type": "markdown",
   "metadata": {
    "id": "0ezWXXZVj-TP"
   },
   "source": [
    "### **5.2:** Reflection\n",
    "\n"
   ]
  },
  {
   "cell_type": "markdown",
   "metadata": {},
   "source": [
    "I'll conduct data accuracy checks by comparing the information in the datasets with trusted sources or performing data reconciliation to identify any inconsistencies or discrepancies.\n",
    "\n",
    "I'll also assess data completeness by verifying that all relevant fields are populated and that there are no missing values, ensuring that the datasets are comprehensive and suitable for in-depth analysis"
   ]
  },
  {
   "cell_type": "code",
   "execution_count": null,
   "metadata": {},
   "outputs": [],
   "source": []
  }
 ],
 "metadata": {
  "colab": {
   "provenance": []
  },
  "kernelspec": {
   "display_name": "Python 3 (ipykernel)",
   "language": "python",
   "name": "python3"
  },
  "language_info": {
   "codemirror_mode": {
    "name": "ipython",
    "version": 3
   },
   "file_extension": ".py",
   "mimetype": "text/x-python",
   "name": "python",
   "nbconvert_exporter": "python",
   "pygments_lexer": "ipython3",
   "version": "3.10.10"
  }
 },
 "nbformat": 4,
 "nbformat_minor": 1
}
